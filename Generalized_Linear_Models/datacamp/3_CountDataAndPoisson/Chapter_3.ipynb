{
 "cells": [
  {
   "cell_type": "code",
   "execution_count": 1,
   "id": "ba8900d5",
   "metadata": {},
   "outputs": [],
   "source": [
    "# https://campus.datacamp.com/courses/generalized-linear-models-in-python/modeling-count-data?ex=1\n"
   ]
  },
  {
   "cell_type": "code",
   "execution_count": 14,
   "id": "7ad5b123",
   "metadata": {},
   "outputs": [
    {
     "name": "stdout",
     "output_type": "stream",
     "text": [
      "173\n",
      "173\n"
     ]
    }
   ],
   "source": [
    "# Crab data\n",
    "import numpy as np\n",
    "import pandas as pd\n",
    "y=[1, 0, 1, 0, 1, 0, 0, 0, 0, 0, 0, 0, 1, 0, 1, 1, 1, 1, 0, 1, 1, 1, 1, 1, 1, 0, 1, 1, 0, 0, 1, 0, 0, 1, 1, 0, 0, 1, 0, 1, 1, 1, 1, 1, 1, 1, 1, 1, 1, 1, 1, 1, 1, 1, 1, 1, 1, 1, 0, 0, 0, 1, 1, 1, 1, 1, 1, 0, 0, 1, 1, 1, 0, 1, 0, 0, 1, 1, 0, 1, 0, 0, 0, 1, 0, 1, 0, 0, 0, 0, 1, 0, 0, 0, 0, 1, 0, 1, 1, 1, 1, 1, 1, 1, 1, 1, 1, 1, 1, 1, 1, 1, 0, 1, 1, 0, 1, 0, 1, 1, 1, 1, 0, 1, 1, 0, 1, 1, 1, 1, 1, 0, 1, 1, 1, 0, 1, 1, 1, 1, 1, 1, 1, 0, 0, 1, 1, 1, 1, 1, 1, 0, 0, 0, 0, 1, 0, 1, 0, 1, 1, 1, 1, 0, 1, 0, 0, 1, 1, 1, 0, 0, 0]\n",
    "width=[28.3, 22.5, 26.0, 24.8, 26.0, 23.8, 26.5, 24.7, 23.7, 25.6, 24.3, 25.8, 28.2, 21.0, 26.0, 27.1, 25.2, 29.0, 24.7, 27.4, 23.2, 25.0, 22.5, 26.7, 25.8, 26.2, 28.7, 26.8, 27.5, 24.9, 29.3, 25.8, 25.7, 25.7, 26.7, 23.7, 26.8, 27.5, 23.4, 27.9, 27.5, 26.1, 27.7, 30.0, 28.5, 28.9, 28.2, 25.0, 28.5, 30.3, 24.7, 27.7, 27.4, 22.9, 25.7, 28.3, 27.2, 26.2, 27.8, 25.5, 27.1, 24.5, 27.0, 26.0, 28.0, 30.0, 29.0, 26.2, 26.5, 26.2, 25.6, 23.0, 23.0, 25.4, 24.2, 22.9, 26.0, 25.4, 25.7, 25.1, 24.5, 27.5, 23.1, 25.9, 25.8, 27.0, 28.5, 25.5, 23.5, 24.0, 29.7, 26.8, 26.7, 28.7, 23.1, 29.0, 25.5, 26.5, 24.5, 28.5, 28.2, 24.5, 27.5, 24.7, 25.2, 27.3, 26.3, 29.0, 25.3, 26.5, 27.8, 27.0, 25.7, 25.0, 31.9, 23.7, 29.3, 22.0, 25.0, 27.0, 23.8, 30.2, 26.2, 24.2, 27.4, 25.4, 28.4, 22.5, 26.2, 24.9, 24.5, 25.1, 28.0, 25.8, 27.9, 24.9, 28.4, 27.2, 25.0, 27.5, 33.5, 30.5, 29.0, 24.3, 25.8, 25.0, 31.7, 29.5, 24.0, 30.0, 27.6, 26.2, 23.1, 22.9, 24.5, 24.7, 28.3, 23.9, 23.8, 29.8, 26.5, 26.0, 28.2, 25.7, 26.5, 25.8, 24.1, 26.2, 26.1, 29.0, 28.0, 27.0, 24.5]\n",
    "weight=[3.05, 1.55, 2.3, 2.1, 2.6, 2.1, 2.35, 1.9, 1.95, 2.15, 2.15, 2.65, 3.05, 1.85, 2.3, 2.95, 2.0, 3.0, 2.2, 2.7, 1.95, 2.3, 1.6, 2.6, 2.0, 1.3, 3.15, 2.7, 2.6, 2.1, 3.2, 2.6, 2.0, 2.0, 2.7, 1.85, 2.65, 3.15, 1.9, 2.8, 3.1, 2.8, 2.5, 3.3, 3.25, 2.8, 2.6, 2.1, 3.0, 3.6, 2.1, 2.9, 2.7, 1.6, 2.0, 3.0, 2.7, 2.3, 2.75, 2.25, 2.55, 2.05, 2.45, 2.15, 2.8, 3.05, 3.2, 2.4, 1.3, 2.4, 2.8, 1.65, 1.8, 2.25, 1.9, 1.6, 2.2, 2.25, 1.2, 2.1, 2.25, 2.9, 1.65, 2.55, 2.3, 2.25, 3.05, 2.75, 1.9, 1.7, 3.85, 2.55, 2.45, 3.2, 1.55, 2.8, 2.25, 1.967, 2.2, 3.0, 2.867, 1.6, 2.55, 2.55, 2.0, 2.9, 2.4, 3.1, 1.9, 2.3, 3.25, 2.5, 2.1, 2.1, 3.325, 1.8, 3.225, 1.4, 2.4, 2.5, 1.8, 3.275, 2.225, 1.65, 2.9, 2.3, 3.2, 1.475, 2.025, 2.3, 1.95, 1.8, 2.9, 2.25, 3.05, 2.2, 3.1, 2.4, 2.25, 2.625, 5.2, 3.325, 2.925, 2.0, 2.4, 2.1, 3.725, 3.025, 1.9, 3.0, 2.85, 2.3, 2.0, 1.6, 1.9, 1.95, 3.2, 1.85, 1.8, 3.5, 2.35, 2.275, 3.05, 2.15, 2.75, 2.2, 1.8, 2.175, 2.75, 3.275, 2.625, 2.625, 2.0]\n",
    "sat=[8, 0, 9, 0, 4, 0, 0, 0, 0, 0, 0, 0, 11, 0, 14, 8, 1, 1, 0, 5, 4, 3, 1, 2, 3, 0, 3, 5, 0, 0, 4, 0, 0, 8, 5, 0, 0, 6, 0, 6, 3, 5, 6, 5, 9, 4, 6, 4, 3, 3, 5, 5, 6, 4, 5, 15, 3, 3, 0, 0, 0, 5, 3, 5, 1, 8, 10, 0, 0, 3, 7, 1, 0, 6, 0, 0, 3, 4, 0, 5, 0, 0, 0, 4, 0, 3, 0, 0, 0, 0, 5, 0, 0, 0, 0, 1, 0, 1, 1, 1, 1, 1, 1, 4, 1, 1, 1, 1, 2, 4, 3, 6, 0, 2, 2, 0, 12, 0, 5, 6, 6, 2, 0, 2, 3, 0, 3, 4, 2, 6, 6, 0, 4, 10, 7, 0, 5, 5, 6, 6, 7, 3, 3, 0, 0, 8, 4, 4, 10, 9, 4, 0, 0, 0, 0, 4, 0, 2, 0, 4, 4, 3, 8, 0, 7, 0, 0, 2, 3, 4, 0, 0, 0]\n",
    "\n",
    "print(len(y))\n",
    "print(len(width))\n",
    "\n",
    "crab = pd.DataFrame(list(zip(y, width, sat, weight)),\n",
    "              columns=['y','width','sat','weight'])"
   ]
  },
  {
   "cell_type": "code",
   "execution_count": 8,
   "id": "861816e4",
   "metadata": {},
   "outputs": [
    {
     "name": "stderr",
     "output_type": "stream",
     "text": [
      "C:\\Users\\jnowa\\AppData\\Local\\Temp\\ipykernel_20736\\1393134521.py:6: UserWarning: \n",
      "\n",
      "`distplot` is a deprecated function and will be removed in seaborn v0.14.0.\n",
      "\n",
      "Please adapt your code to use either `displot` (a figure-level function with\n",
      "similar flexibility) or `histplot` (an axes-level function for histograms).\n",
      "\n",
      "For a guide to updating your code to use the new functions, please see\n",
      "https://gist.github.com/mwaskom/de44147ed2974457ad6372750bbe5751\n",
      "\n",
      "  sns.distplot(crab['sat'])\n"
     ]
    },
    {
     "data": {
      "image/png": "[encoded data removed]",
      "text/plain": [
       "<Figure size 640x480 with 1 Axes>"
      ]
     },
     "metadata": {},
     "output_type": "display_data"
    }
   ],
   "source": [
    "# Import libraries\n",
    "import seaborn as sns\n",
    "import matplotlib.pyplot as plt\n",
    "\n",
    "# Plot sat variable\n",
    "sns.distplot(crab['sat'])\n",
    "\n",
    "# Display the plot\n",
    "plt.show()"
   ]
  },
  {
   "cell_type": "code",
   "execution_count": 9,
   "id": "cf334ddb",
   "metadata": {},
   "outputs": [
    {
     "name": "stdout",
     "output_type": "stream",
     "text": [
      "                 Generalized Linear Model Regression Results                  \n",
      "==============================================================================\n",
      "Dep. Variable:                    sat   No. Observations:                  173\n",
      "Model:                            GLM   Df Residuals:                      171\n",
      "Model Family:                 Poisson   Df Model:                            1\n",
      "Link Function:                    Log   Scale:                          1.0000\n",
      "Method:                          IRLS   Log-Likelihood:                -458.08\n",
      "Date:                Fri, 28 Apr 2023   Deviance:                       560.87\n",
      "Time:                        21:25:39   Pearson chi2:                     536.\n",
      "No. Iterations:                     5   Pseudo R-squ. (CS):             0.3402\n",
      "Covariance Type:            nonrobust                                         \n",
      "==============================================================================\n",
      "                 coef    std err          z      P>|z|      [0.025      0.975]\n",
      "------------------------------------------------------------------------------\n",
      "Intercept     -0.4284      0.179     -2.394      0.017      -0.779      -0.078\n",
      "weight         0.5893      0.065      9.064      0.000       0.462       0.717\n",
      "==============================================================================\n"
     ]
    }
   ],
   "source": [
    "# Import libraries\n",
    "import statsmodels.api as sm\n",
    "from statsmodels.formula.api import glm\n",
    "\n",
    "# Fit Poisson regression of sat by weight\n",
    "model = glm('sat ~ weight', data = crab, family = sm.families.Poisson()).fit()\n",
    "\n",
    "# Display model results\n",
    "print(model.summary())"
   ]
  },
  {
   "cell_type": "code",
   "execution_count": 10,
   "id": "96efe023",
   "metadata": {},
   "outputs": [],
   "source": [
    "# https://campus.datacamp.com/courses/generalized-linear-models-in-python/modeling-count-data?ex=4\n",
    "# Review video\n",
    "\n",
    "# ??????????????????????????\n"
   ]
  },
  {
   "cell_type": "code",
   "execution_count": 17,
   "id": "b2a9646e",
   "metadata": {},
   "outputs": [
    {
     "name": "stdout",
     "output_type": "stream",
     "text": [
      "                 Generalized Linear Model Regression Results                  \n",
      "==============================================================================\n",
      "Dep. Variable:                    sat   No. Observations:                  173\n",
      "Model:                            GLM   Df Residuals:                      171\n",
      "Model Family:                 Poisson   Df Model:                            1\n",
      "Link Function:                    Log   Scale:                          1.0000\n",
      "Method:                          IRLS   Log-Likelihood:                -461.59\n",
      "Date:                Fri, 28 Apr 2023   Deviance:                       567.88\n",
      "Time:                        21:42:54   Pearson chi2:                     544.\n",
      "No. Iterations:                     5   Pseudo R-squ. (CS):             0.3129\n",
      "Covariance Type:            nonrobust                                         \n",
      "==============================================================================\n",
      "                 coef    std err          z      P>|z|      [0.025      0.975]\n",
      "------------------------------------------------------------------------------\n",
      "Intercept     -3.3048      0.542     -6.095      0.000      -4.368      -2.242\n",
      "width          0.1640      0.020      8.216      0.000       0.125       0.203\n",
      "==============================================================================\n"
     ]
    }
   ],
   "source": [
    "# Import libraries\n",
    "import statsmodels.api as sm\n",
    "from statsmodels.formula.api import glm\n",
    "\n",
    "# Fit Poisson regression of sat by width\n",
    "model = glm('sat ~ width', data = crab, family = sm.families.Poisson()).fit()\n",
    "\n",
    "# Display model results\n",
    "print(model.summary())"
   ]
  },
  {
   "cell_type": "code",
   "execution_count": 18,
   "id": "27f9886d",
   "metadata": {},
   "outputs": [
    {
     "name": "stdout",
     "output_type": "stream",
     "text": [
      "Average width:  26.299\n",
      "Estimated mean of y at average width:  2.744\n"
     ]
    }
   ],
   "source": [
    "# Compute average crab width\n",
    "mean_width = np.mean(crab['width'])\n",
    "\n",
    "# Print the compute mean\n",
    "print('Average width: ', round(mean_width, 3))\n",
    "\n",
    "# Extract coefficients\n",
    "intercept, slope = model.params\n",
    "\n",
    "# Compute the estimated mean of y (lambda) at the average width\n",
    "est_lambda = np.exp(intercept) * np.exp(slope * mean_width)\n",
    "\n",
    "# Print estimated mean of y\n",
    "print('Estimated mean of y at average width: ', round(est_lambda, 3))"
   ]
  },
  {
   "cell_type": "code",
   "execution_count": 19,
   "id": "a4dc3998",
   "metadata": {},
   "outputs": [
    {
     "data": {
      "text/html": [
       "<table class=\"simpletable\">\n",
       "<caption>Generalized Linear Model Regression Results</caption>\n",
       "<tr>\n",
       "  <th>Dep. Variable:</th>          <td>sat</td>       <th>  No. Observations:  </th>  <td>   173</td> \n",
       "</tr>\n",
       "<tr>\n",
       "  <th>Model:</th>                  <td>GLM</td>       <th>  Df Residuals:      </th>  <td>   171</td> \n",
       "</tr>\n",
       "<tr>\n",
       "  <th>Model Family:</th>         <td>Poisson</td>     <th>  Df Model:          </th>  <td>     1</td> \n",
       "</tr>\n",
       "<tr>\n",
       "  <th>Link Function:</th>          <td>Log</td>       <th>  Scale:             </th> <td>  1.0000</td>\n",
       "</tr>\n",
       "<tr>\n",
       "  <th>Method:</th>                <td>IRLS</td>       <th>  Log-Likelihood:    </th> <td> -461.59</td>\n",
       "</tr>\n",
       "<tr>\n",
       "  <th>Date:</th>            <td>Fri, 28 Apr 2023</td> <th>  Deviance:          </th> <td>  567.88</td>\n",
       "</tr>\n",
       "<tr>\n",
       "  <th>Time:</th>                <td>21:43:04</td>     <th>  Pearson chi2:      </th>  <td>  544.</td> \n",
       "</tr>\n",
       "<tr>\n",
       "  <th>No. Iterations:</th>          <td>5</td>        <th>  Pseudo R-squ. (CS):</th>  <td>0.3129</td> \n",
       "</tr>\n",
       "<tr>\n",
       "  <th>Covariance Type:</th>     <td>nonrobust</td>    <th>                     </th>     <td> </td>   \n",
       "</tr>\n",
       "</table>\n",
       "<table class=\"simpletable\">\n",
       "<tr>\n",
       "      <td></td>         <th>coef</th>     <th>std err</th>      <th>z</th>      <th>P>|z|</th>  <th>[0.025</th>    <th>0.975]</th>  \n",
       "</tr>\n",
       "<tr>\n",
       "  <th>Intercept</th> <td>   -3.3048</td> <td>    0.542</td> <td>   -6.095</td> <td> 0.000</td> <td>   -4.368</td> <td>   -2.242</td>\n",
       "</tr>\n",
       "<tr>\n",
       "  <th>width</th>     <td>    0.1640</td> <td>    0.020</td> <td>    8.216</td> <td> 0.000</td> <td>    0.125</td> <td>    0.203</td>\n",
       "</tr>\n",
       "</table>"
      ],
      "text/plain": [
       "<class 'statsmodels.iolib.summary.Summary'>\n",
       "\"\"\"\n",
       "                 Generalized Linear Model Regression Results                  \n",
       "==============================================================================\n",
       "Dep. Variable:                    sat   No. Observations:                  173\n",
       "Model:                            GLM   Df Residuals:                      171\n",
       "Model Family:                 Poisson   Df Model:                            1\n",
       "Link Function:                    Log   Scale:                          1.0000\n",
       "Method:                          IRLS   Log-Likelihood:                -461.59\n",
       "Date:                Fri, 28 Apr 2023   Deviance:                       567.88\n",
       "Time:                        21:43:04   Pearson chi2:                     544.\n",
       "No. Iterations:                     5   Pseudo R-squ. (CS):             0.3129\n",
       "Covariance Type:            nonrobust                                         \n",
       "==============================================================================\n",
       "                 coef    std err          z      P>|z|      [0.025      0.975]\n",
       "------------------------------------------------------------------------------\n",
       "Intercept     -3.3048      0.542     -6.095      0.000      -4.368      -2.242\n",
       "width          0.1640      0.020      8.216      0.000       0.125       0.203\n",
       "==============================================================================\n",
       "\"\"\""
      ]
     },
     "execution_count": 19,
     "metadata": {},
     "output_type": "execute_result"
    }
   ],
   "source": [
    "#The estimate is positive meaning that the effect on the mean of the response will be  times larger than if X=0\n",
    "\n",
    "model.summary()"
   ]
  },
  {
   "cell_type": "code",
   "execution_count": 20,
   "id": "66672338",
   "metadata": {},
   "outputs": [
    {
     "name": "stdout",
     "output_type": "stream",
     "text": [
      "1.17826743864523\n"
     ]
    }
   ],
   "source": [
    "# Extract coefficients\n",
    "intercept, slope = model.params\n",
    "\n",
    "# Compute and print the multiplicative effect\n",
    "print(np.exp(slope))"
   ]
  },
  {
   "cell_type": "code",
   "execution_count": 21,
   "id": "31d1e168",
   "metadata": {},
   "outputs": [
    {
     "name": "stdout",
     "output_type": "stream",
     "text": [
      "                  0         1\n",
      "Intercept  0.012683  0.106248\n",
      "width      1.133051  1.225289\n"
     ]
    }
   ],
   "source": [
    "# Compute confidence intervals for the coefficients\n",
    "model_ci = model.conf_int()\n",
    "\n",
    "# Compute and print the confidence intervals for the multiplicative effect on the mean\n",
    "print(np.exp(model_ci))\n",
    "\n",
    "# The multiplicative effect on the mean response for a 1-unit increase in width is at least 1.13 and at most 1.22."
   ]
  },
  {
   "cell_type": "code",
   "execution_count": 22,
   "id": "9aa51903",
   "metadata": {},
   "outputs": [],
   "source": [
    "# What if variance is not equal to the mean\n",
    "# Over dispersion: Variance > mean\n",
    "# under dispersion: variance < mean\n",
    "\n",
    "# Consequences\n",
    "# Small standard errors\n",
    "# Small p-value\n",
    "\n",
    "# Question: How to check for over dispersion?\n",
    "# Answer: Pearson Chi-sq / degrees of freedom \n",
    "# over dispersion is > 1\n",
    "# under dispersion is < 1\n",
    "# approximately Poisson ~ 1\n",
    "\n",
    "# Question: how do you account for over dispersion\n",
    "# Answer: Use negative binomial distribution\n",
    "\n",
    "# alpha - is variance above the mean\n",
    "\n",
    "# https://campus.datacamp.com/courses/generalized-linear-models-in-python/modeling-count-data?ex=8"
   ]
  },
  {
   "cell_type": "code",
   "execution_count": 25,
   "id": "88493aae",
   "metadata": {},
   "outputs": [
    {
     "name": "stdout",
     "output_type": "stream",
     "text": [
      "Sample mean: 2.919\n",
      "Sample variance: 9.855\n",
      "Ratio: 3.376\n"
     ]
    }
   ],
   "source": [
    "# Compute and print sample mean of the number of satellites: sat_mean\n",
    "sat_mean = np.mean(crab['sat'])\n",
    "\n",
    "print('Sample mean:', round(sat_mean, 3))\n",
    "\n",
    "# Compute and print sample variance of the number of satellites: sat_var\n",
    "sat_var = np.var(crab['sat'])\n",
    "print('Sample variance:', round(sat_var, 3))\n",
    "\n",
    "# Compute ratio of variance to mean\n",
    "print('Ratio:', round(sat_var/sat_mean, 3))\n",
    "\n",
    "# Notice that the variance is 3.37 times the mean. \n",
    "# This gives an indication that Poisson GLM will not provide the most accurate fit to the data. \n",
    "# Let's do another check before moving on."
   ]
  },
  {
   "cell_type": "code",
   "execution_count": 26,
   "id": "f7d2330f",
   "metadata": {},
   "outputs": [
    {
     "name": "stdout",
     "output_type": "stream",
     "text": [
      "Expected zero counts given mean of  2.919 is  5.4\n",
      "Actual zero counts in the sample:  35.8\n"
     ]
    }
   ],
   "source": [
    "import math\n",
    "# Expected number of zero counts\n",
    "exp_zero_cnt = ((sat_mean**0)*np.exp(-sat_mean))/math.factorial(0)\n",
    "\n",
    "# Print exp_zero_counts\n",
    "print('Expected zero counts given mean of ', round(sat_mean,3), \n",
    "      'is ', round(exp_zero_cnt,3)*100)\n",
    "\n",
    "# Number of zero counts in sat variable\n",
    "actual_zero_cnt = sum(crab['sat'] == 0)\n",
    "\n",
    "# Number of observations in crab dataset\n",
    "num_obs = len(crab)\n",
    "\n",
    "# Print the percentage of zero count observations in the sample\n",
    "print('Actual zero counts in the sample: ', round(actual_zero_cnt / num_obs,3)*100)\n",
    "\n",
    "# Notice that given the mean parametar there should be 5.4% observations with zero count, \n",
    "# but in the crab sample there are 35.8% observations with zero count, indicating the presence of overdispersion."
   ]
  },
  {
   "cell_type": "code",
   "execution_count": 45,
   "id": "e44521a6",
   "metadata": {},
   "outputs": [
    {
     "name": "stdout",
     "output_type": "stream",
     "text": [
      "satellite mean:\t2.9190751445086707\n",
      "1.0\n",
      "np.exp:\t0.053983591240632844\n",
      "- satellite mean:\t-2.9190751445086707\n",
      "factorial(0):\t1\n",
      "0.054\n"
     ]
    },
    {
     "data": {
      "text/plain": [
       "173"
      ]
     },
     "execution_count": 45,
     "metadata": {},
     "output_type": "execute_result"
    }
   ],
   "source": [
    "# ?????????????????????????????????????\n",
    "# Figure this out ?????????????????????????????????????????????\n",
    "\n",
    "print(\"satellite mean:\\t\" + str(sat_mean))  # mean of all values in satellite\n",
    "print(sat_mean**0) # 2.9190^0 = 1\n",
    "print(\"np.exp:\\t\" + str(np.exp(-sat_mean))) # Euler's number, approximately 2.718281^X or 2.718281^-2.919\n",
    "print(\"- satellite mean:\\t\" + str(-sat_mean))\n",
    "print(\"factorial(0):\\t\" + str(math.factorial(0)))\n",
    "print(round(exp_zero_cnt,3))\n",
    "len(crab['sat'])"
   ]
  },
  {
   "cell_type": "code",
   "execution_count": 48,
   "id": "a6ca6a41",
   "metadata": {},
   "outputs": [
    {
     "name": "stdout",
     "output_type": "stream",
     "text": [
      "3.182204743877359\n"
     ]
    }
   ],
   "source": [
    "# Compute and print the overdispersion approximation\n",
    "crab_pois=model\n",
    "print(crab_pois.pearson_chi2 / crab_pois.df_resid)\n",
    "\n",
    "# There is overdispersion present since the ratio is greater than 1, meaning that the coefficient \n",
    "# estimates should not be interpreted directly. Don't worry in the following exercises you will solve this problem!"
   ]
  },
  {
   "cell_type": "code",
   "execution_count": 50,
   "id": "373e846c",
   "metadata": {},
   "outputs": [
    {
     "name": "stdout",
     "output_type": "stream",
     "text": [
      "                 Generalized Linear Model Regression Results                  \n",
      "==============================================================================\n",
      "Dep. Variable:                    sat   No. Observations:                  173\n",
      "Model:                            GLM   Df Residuals:                      171\n",
      "Model Family:                 Poisson   Df Model:                            1\n",
      "Link Function:                    Log   Scale:                          1.0000\n",
      "Method:                          IRLS   Log-Likelihood:                -461.59\n",
      "Date:                Fri, 28 Apr 2023   Deviance:                       567.88\n",
      "Time:                        23:04:04   Pearson chi2:                     544.\n",
      "No. Iterations:                     5   Pseudo R-squ. (CS):             0.3129\n",
      "Covariance Type:            nonrobust                                         \n",
      "==============================================================================\n",
      "                 coef    std err          z      P>|z|      [0.025      0.975]\n",
      "------------------------------------------------------------------------------\n",
      "Intercept     -3.3048      0.542     -6.095      0.000      -4.368      -2.242\n",
      "width          0.1640      0.020      8.216      0.000       0.125       0.203\n",
      "==============================================================================\n",
      "                 Generalized Linear Model Regression Results                  \n",
      "==============================================================================\n",
      "Dep. Variable:                    sat   No. Observations:                  173\n",
      "Model:                            GLM   Df Residuals:                      171\n",
      "Model Family:        NegativeBinomial   Df Model:                            1\n",
      "Link Function:                    Log   Scale:                          1.0000\n",
      "Method:                          IRLS   Log-Likelihood:                -375.80\n",
      "Date:                Fri, 28 Apr 2023   Deviance:                       206.41\n",
      "Time:                        23:04:04   Pearson chi2:                     155.\n",
      "No. Iterations:                     6   Pseudo R-squ. (CS):             0.1015\n",
      "Covariance Type:            nonrobust                                         \n",
      "==============================================================================\n",
      "                 coef    std err          z      P>|z|      [0.025      0.975]\n",
      "------------------------------------------------------------------------------\n",
      "Intercept     -4.0323      1.129     -3.572      0.000      -6.245      -1.820\n",
      "width          0.1913      0.042      4.509      0.000       0.108       0.274\n",
      "==============================================================================\n"
     ]
    }
   ],
   "source": [
    "# Fitting negative binomial\n",
    "# Define the formula for the model fit\n",
    "formula = 'sat ~ width'\n",
    "\n",
    "# Fit the GLM negative binomial model using log link function\n",
    "crab_NB = glm(formula = formula, data = crab, \n",
    "\t\t\t\t  family = sm.families.NegativeBinomial()).fit()\n",
    "\n",
    "# Print Poisson model's summary\n",
    "print(crab_pois.summary())\n",
    "\n",
    "# Print the negative binomial model's summary\n",
    "print(crab_NB.summary())\n",
    "\n"
   ]
  },
  {
   "cell_type": "code",
   "execution_count": 51,
   "id": "42b9b9b8",
   "metadata": {},
   "outputs": [
    {
     "name": "stdout",
     "output_type": "stream",
     "text": [
      "Confidence intervals for the Poisson model\n",
      "                  0         1\n",
      "Intercept -4.367531 -2.241983\n",
      "width      0.124914  0.203176\n",
      "Confidence intervals for the Negative Binomial model\n",
      "                  0         1\n",
      "Intercept -6.244509 -1.820000\n",
      "width      0.108155  0.274472\n"
     ]
    }
   ],
   "source": [
    "# Well done! Notice how standard error increased to 0.042, \n",
    "# reflecting overdispersion which was not captured with the Poisson model.\n",
    "\n",
    "# Question: how does a higher standard error prove this?\n",
    "# Answer: XXXXXXXXXXXXXXXXXXXXXXXXXXXXXXXXXXXXXXXXXXXXXXXXXXXXXXX\n",
    "\n",
    "# Compute confidence intervals for crab_Pois model\n",
    "print('Confidence intervals for the Poisson model')\n",
    "print(crab_pois.conf_int())\n",
    "\n",
    "# Compute confidence intervals for crab_NB model\n",
    "print('Confidence intervals for the Negative Binomial model')\n",
    "print(crab_NB.conf_int())"
   ]
  },
  {
   "cell_type": "code",
   "execution_count": 57,
   "id": "aad71377",
   "metadata": {},
   "outputs": [
    {
     "name": "stdout",
     "output_type": "stream",
     "text": [
      "     y  width  sat  weight\n",
      "0    1   28.3    8   3.050\n",
      "1    0   22.5    0   1.550\n",
      "2    1   26.0    9   2.300\n",
      "3    0   24.8    0   2.100\n",
      "4    1   26.0    4   2.600\n",
      "..  ..    ...  ...     ...\n",
      "168  1   26.1    3   2.750\n",
      "169  1   29.0    4   3.275\n",
      "170  0   28.0    0   2.625\n",
      "171  0   27.0    0   2.625\n",
      "172  0   24.5    0   2.000\n",
      "\n",
      "[173 rows x 4 columns]\n"
     ]
    }
   ],
   "source": [
    "# Notice how the confidence intervals are wider for the negative Binomial model compared to quite \n",
    "# narrow confidence intervals for the Poisson model since it did not account for overdispersion.\n",
    "print(crab)"
   ]
  },
  {
   "cell_type": "code",
   "execution_count": 63,
   "id": "c60e297b",
   "metadata": {},
   "outputs": [
    {
     "data": {
      "image/png": "[encoded data removed]",
      "text/plain": [
       "<Figure size 640x480 with 1 Axes>"
      ]
     },
     "metadata": {},
     "output_type": "display_data"
    }
   ],
   "source": [
    "# Import libraries\n",
    "import seaborn as sns\n",
    "import matplotlib.pyplot as plt\n",
    "\n",
    "# Plot the data points and linear model fit\n",
    "sns.regplot(x='width',y='sat', \n",
    "            data = crab,\n",
    "            y_jitter = 0.3,\n",
    "            fit_reg = True,\n",
    "            line_kws = {'color':'green', \n",
    "                        'label':'LM fit'})\n",
    "\n",
    "# Print plot\n",
    "plt.show()"
   ]
  },
  {
   "cell_type": "code",
   "execution_count": 67,
   "id": "47433ba2",
   "metadata": {},
   "outputs": [
    {
     "data": {
      "image/png": "[encoded data removed]",
      "text/plain": [
       "<Figure size 640x480 with 1 Axes>"
      ]
     },
     "metadata": {},
     "output_type": "display_data"
    }
   ],
   "source": [
    "# https://campus.datacamp.com/courses/generalized-linear-models-in-python/modeling-count-data?ex=16\n",
    "# This is the final exercise\n",
    "\n",
    "# Add fitted values to the fit_values column of crab dataframe\n",
    "crab['fit_values'] = model.fittedvalues\n",
    "\n",
    "# Plot data points\n",
    "sns.regplot(x='width', y='sat', data = crab,\n",
    "            y_jitter = 0.3,\n",
    "            fit_reg = True, \n",
    "            line_kws = {'color':'green', \n",
    "                        'label':'LM fit'})\n",
    "\n",
    "# Poisson regression fitted values\n",
    "sns.scatterplot(x='width',y='fit_values', data = crab,\n",
    "           color = 'red', label = 'Poisson')\n",
    "\n",
    "# Print plot          \n",
    "plt.show()"
   ]
  },
  {
   "cell_type": "code",
   "execution_count": null,
   "id": "54c01b85",
   "metadata": {},
   "outputs": [],
   "source": [
    "# Great, now you can compare both fits on one graph! Similary as for the model with weight variable the \n",
    "# linear and Poisson fits are close in the mid range of width values, but diverge on smaller and larger values.\n",
    "\n"
   ]
  }
 ],
 "metadata": {
  "kernelspec": {
   "display_name": "Python 3 (ipykernel)",
   "language": "python",
   "name": "python3"
  },
  "language_info": {
   "codemirror_mode": {
    "name": "ipython",
    "version": 3
   },
   "file_extension": ".py",
   "mimetype": "text/x-python",
   "name": "python",
   "nbconvert_exporter": "python",
   "pygments_lexer": "ipython3",
   "version": "3.10.9"
  }
 },
 "nbformat": 4,
 "nbformat_minor": 5
}
