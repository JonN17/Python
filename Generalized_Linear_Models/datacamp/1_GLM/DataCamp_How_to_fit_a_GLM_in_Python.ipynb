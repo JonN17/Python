{
 "cells": [
  {
   "cell_type": "code",
   "execution_count": 1,
   "id": "f836e3b8",
   "metadata": {},
   "outputs": [],
   "source": [
    "# https://campus.datacamp.com/courses/generalized-linear-models-in-python/introduction-to-glms?ex=8\n"
   ]
  },
  {
   "cell_type": "code",
   "execution_count": 8,
   "id": "6bc96c2f",
   "metadata": {},
   "outputs": [],
   "source": [
    "# import an entire suite of methods as a module\n",
    "import statsmodels.formula.api as smf\n",
    "\n",
    "# import a method() which is basically a function() but contained in an object.\n",
    "from statsmodels.formula.api import glm\n",
    "\n",
    "# Note\n",
    "# https://www.tutorialspoint.com/difference-between-method-and-function-in-python\n",
    "# Module contains methods... which are basically just functions"
   ]
  },
  {
   "cell_type": "code",
   "execution_count": 9,
   "id": "7e09d955",
   "metadata": {},
   "outputs": [
    {
     "data": {
      "text/plain": [
       "module"
      ]
     },
     "execution_count": 9,
     "metadata": {},
     "output_type": "execute_result"
    }
   ],
   "source": [
    "type(smf)"
   ]
  },
  {
   "cell_type": "code",
   "execution_count": 10,
   "id": "ca92b478",
   "metadata": {},
   "outputs": [
    {
     "data": {
      "text/plain": [
       "method"
      ]
     },
     "execution_count": 10,
     "metadata": {},
     "output_type": "execute_result"
    }
   ],
   "source": [
    "type(glm)"
   ]
  },
  {
   "cell_type": "code",
   "execution_count": null,
   "id": "75442a25",
   "metadata": {},
   "outputs": [],
   "source": [
    "# C(x1)        treat x1 as a category\n",
    "# -1           remove intercept\n",
    "# x1:x2        interaction between x1 and x2\n",
    "# x1*x2        interaction between x1 and x2 and the individual variables\n",
    "# np.log(x1)   apply vectorized functions to model variables\n",
    "\n",
    "\n",
    "# Gaussian(link=sm.families.links.identity())\n",
    "# Binomial(link=sm.families.links.logit())\n",
    "# probit(), cauchy(), log(), cloglog()\n",
    "\n",
    "# Poisson(link=sm.families.links.log())\n",
    "# identity(), sqrt()\n",
    "\n",
    "# print(model_GLM.summary())\n",
    "\n",
    "# model_GLM.params\n",
    "\n",
    "# model_GLM.conf_int()\n",
    "# model_GLM.conf_int(alpha=0.05, cols=None)\n",
    "\n",
    "# model_GLM.predict()\n",
    "\n"
   ]
  }
 ],
 "metadata": {
  "kernelspec": {
   "display_name": "Python 3 (ipykernel)",
   "language": "python",
   "name": "python3"
  },
  "language_info": {
   "codemirror_mode": {
    "name": "ipython",
    "version": 3
   },
   "file_extension": ".py",
   "mimetype": "text/x-python",
   "name": "python",
   "nbconvert_exporter": "python",
   "pygments_lexer": "ipython3",
   "version": "3.10.9"
  }
 },
 "nbformat": 4,
 "nbformat_minor": 5
}
