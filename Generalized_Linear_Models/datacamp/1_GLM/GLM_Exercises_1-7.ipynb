{
 "cells": [
  {
   "cell_type": "code",
   "execution_count": 4,
   "id": "2247b80e",
   "metadata": {},
   "outputs": [],
   "source": [
    "# Datacamp Genearlized linear Models\n",
    "# Exercise 1-\n",
    "import pandas as pd"
   ]
  },
  {
   "cell_type": "code",
   "execution_count": 5,
   "id": "c42e91fb",
   "metadata": {},
   "outputs": [
    {
     "name": "stdout",
     "output_type": "stream",
     "text": [
      "['C:\\\\Users\\\\jnowa\\\\Downloads\\\\PythonProjects\\\\1_GLM', 'C:\\\\ProgramData\\\\anaconda3\\\\python310.zip', 'C:\\\\ProgramData\\\\anaconda3\\\\DLLs', 'C:\\\\ProgramData\\\\anaconda3\\\\lib', 'C:\\\\ProgramData\\\\anaconda3', '', 'C:\\\\ProgramData\\\\anaconda3\\\\lib\\\\site-packages', 'C:\\\\ProgramData\\\\anaconda3\\\\lib\\\\site-packages\\\\win32', 'C:\\\\ProgramData\\\\anaconda3\\\\lib\\\\site-packages\\\\win32\\\\lib', 'C:\\\\ProgramData\\\\anaconda3\\\\lib\\\\site-packages\\\\Pythonwin']\n",
      "C:\\ProgramData\\anaconda3\n"
     ]
    }
   ],
   "source": [
    "# print paths\n",
    "import sys\n",
    "print(sys.path)\n",
    "# print conda environment\n",
    "import os; print(os.environ[\"CONDA_PREFIX\"])"
   ]
  },
  {
   "cell_type": "code",
   "execution_count": 6,
   "id": "2f622a56",
   "metadata": {},
   "outputs": [
    {
     "name": "stdout",
     "output_type": "stream",
     "text": [
      "C:\\Users\\jnowa\\Downloads\\PythonProjects\\1_GLM\n"
     ]
    }
   ],
   "source": [
    "# Source local files\n",
    "import os\n",
    "local_dir=os.path.abspath(\"\")\n",
    "print(local_dir)"
   ]
  },
  {
   "cell_type": "code",
   "execution_count": 7,
   "id": "1cd76f40",
   "metadata": {},
   "outputs": [
    {
     "name": "stdout",
     "output_type": "stream",
     "text": [
      "[]\n"
     ]
    }
   ],
   "source": [
    "import os\n",
    "try:\n",
    "    user_paths = os.environ['PYTHONPATH'].split(os.pathsep)\n",
    "except KeyError:\n",
    "    user_paths = []\n",
    "print(user_paths)"
   ]
  },
  {
   "cell_type": "code",
   "execution_count": 8,
   "id": "83506ce9",
   "metadata": {},
   "outputs": [
    {
     "data": {
      "text/plain": [
       "['']"
      ]
     },
     "execution_count": 8,
     "metadata": {},
     "output_type": "execute_result"
    }
   ],
   "source": [
    "import os\n",
    "os.environ.get('PYTHONPATH', '').split(os.pathsep)"
   ]
  },
  {
   "cell_type": "code",
   "execution_count": 9,
   "id": "cf55c8a7",
   "metadata": {},
   "outputs": [],
   "source": [
    "# This can take about a minute / 60 seconds\n",
    "import statsmodels.api as sm"
   ]
  },
  {
   "cell_type": "code",
   "execution_count": 10,
   "id": "7e37bd65",
   "metadata": {},
   "outputs": [],
   "source": [
    "import pandas as pd\n",
    "from statsmodels.formula.api import ols, glm"
   ]
  },
  {
   "cell_type": "code",
   "execution_count": 11,
   "id": "d64ac21e",
   "metadata": {},
   "outputs": [
    {
     "name": "stdout",
     "output_type": "stream",
     "text": [
      "# importing data\n",
      "# C:\\Users\\jnowa\\Downloads\\PythonProjects\\1_GLM/data/salary.csv\n"
     ]
    }
   ],
   "source": [
    "filename='/data/salary.csv'\n",
    "file = local_dir + filename\n",
    "print(\"# importing data\")\n",
    "\n",
    "# Source Explicit file\n",
    "print(\"# \" + file)"
   ]
  },
  {
   "cell_type": "code",
   "execution_count": 12,
   "id": "d803da5a",
   "metadata": {},
   "outputs": [
    {
     "name": "stdout",
     "output_type": "stream",
     "text": [
      "   Experience   Salary\n",
      "0         1.1  39343.0\n",
      "1         1.3  46205.0\n",
      "2         1.5  37731.0\n",
      "3         2.0  43525.0\n",
      "4         2.2  39891.0\n"
     ]
    }
   ],
   "source": [
    "salary = pd.read_csv(file, sep='\\t')\n",
    "print(salary.head())"
   ]
  },
  {
   "cell_type": "code",
   "execution_count": 13,
   "id": "58b90cc5",
   "metadata": {},
   "outputs": [],
   "source": [
    "#https://campus.datacamp.com/courses/generalized-linear-models-in-python/introduction-to-glms?ex=3\n",
    "model_lm = ols(formula = 'Salary ~ Experience',\n",
    "               data = salary).fit()"
   ]
  },
  {
   "cell_type": "code",
   "execution_count": 14,
   "id": "23ec55ba",
   "metadata": {},
   "outputs": [
    {
     "name": "stdout",
     "output_type": "stream",
     "text": [
      "Intercept     25792.200199\n",
      "Experience     9449.962321\n",
      "dtype: float64\n"
     ]
    }
   ],
   "source": [
    "print(model_lm.params)"
   ]
  },
  {
   "cell_type": "code",
   "execution_count": 15,
   "id": "7370e514",
   "metadata": {},
   "outputs": [
    {
     "name": "stdout",
     "output_type": "stream",
     "text": [
      "Intercept     25792.200199\n",
      "Experience     9449.962321\n",
      "dtype: float64\n"
     ]
    }
   ],
   "source": [
    "from statsmodels.formula.api import ols, glm\n",
    "import statsmodels.api as sm\n",
    "# Fit a GLM\n",
    "model_glm = glm(formula = 'Salary ~ Experience',\n",
    "                data = salary,\n",
    "                family = sm.families.Gaussian()).fit()\n",
    "\n",
    "# View model coefficients\n",
    "print(model_glm.params)"
   ]
  },
  {
   "cell_type": "code",
   "execution_count": 42,
   "id": "dc4324ef",
   "metadata": {},
   "outputs": [
    {
     "name": "stdout",
     "output_type": "stream",
     "text": [
      "173\n",
      "173\n",
      "   y  width\n",
      "0  1   28.3\n",
      "1  0   22.5\n",
      "2  1   26.0\n",
      "3  0   24.8\n",
      "4  1   26.0\n"
     ]
    }
   ],
   "source": [
    "# Crab data\n",
    "y=[1, 0, 1, 0, 1, 0, 0, 0, 0, 0, 0, 0, 1, 0, 1, 1, 1, 1, 0, 1, 1, 1, 1, 1, 1, 0, 1, 1, 0, 0, 1, 0, 0, 1, 1, 0, 0, 1, 0, 1, 1, 1, 1, 1, 1, 1, 1, 1, 1, 1, 1, 1, 1, 1, 1, 1, 1, 1, 0, 0, 0, 1, 1, 1, 1, 1, 1, 0, 0, 1, 1, 1, 0, 1, 0, 0, 1, 1, 0, 1, 0, 0, 0, 1, 0, 1, 0, 0, 0, 0, 1, 0, 0, 0, 0, 1, 0, 1, 1, 1, 1, 1, 1, 1, 1, 1, 1, 1, 1, 1, 1, 1, 0, 1, 1, 0, 1, 0, 1, 1, 1, 1, 0, 1, 1, 0, 1, 1, 1, 1, 1, 0, 1, 1, 1, 0, 1, 1, 1, 1, 1, 1, 1, 0, 0, 1, 1, 1, 1, 1, 1, 0, 0, 0, 0, 1, 0, 1, 0, 1, 1, 1, 1, 0, 1, 0, 0, 1, 1, 1, 0, 0, 0]\n",
    "width=[28.3, 22.5, 26.0, 24.8, 26.0, 23.8, 26.5, 24.7, 23.7, 25.6, 24.3, 25.8, 28.2, 21.0, 26.0, 27.1, 25.2, 29.0, 24.7, 27.4, 23.2, 25.0, 22.5, 26.7, 25.8, 26.2, 28.7, 26.8, 27.5, 24.9, 29.3, 25.8, 25.7, 25.7, 26.7, 23.7, 26.8, 27.5, 23.4, 27.9, 27.5, 26.1, 27.7, 30.0, 28.5, 28.9, 28.2, 25.0, 28.5, 30.3, 24.7, 27.7, 27.4, 22.9, 25.7, 28.3, 27.2, 26.2, 27.8, 25.5, 27.1, 24.5, 27.0, 26.0, 28.0, 30.0, 29.0, 26.2, 26.5, 26.2, 25.6, 23.0, 23.0, 25.4, 24.2, 22.9, 26.0, 25.4, 25.7, 25.1, 24.5, 27.5, 23.1, 25.9, 25.8, 27.0, 28.5, 25.5, 23.5, 24.0, 29.7, 26.8, 26.7, 28.7, 23.1, 29.0, 25.5, 26.5, 24.5, 28.5, 28.2, 24.5, 27.5, 24.7, 25.2, 27.3, 26.3, 29.0, 25.3, 26.5, 27.8, 27.0, 25.7, 25.0, 31.9, 23.7, 29.3, 22.0, 25.0, 27.0, 23.8, 30.2, 26.2, 24.2, 27.4, 25.4, 28.4, 22.5, 26.2, 24.9, 24.5, 25.1, 28.0, 25.8, 27.9, 24.9, 28.4, 27.2, 25.0, 27.5, 33.5, 30.5, 29.0, 24.3, 25.8, 25.0, 31.7, 29.5, 24.0, 30.0, 27.6, 26.2, 23.1, 22.9, 24.5, 24.7, 28.3, 23.9, 23.8, 29.8, 26.5, 26.0, 28.2, 25.7, 26.5, 25.8, 24.1, 26.2, 26.1, 29.0, 28.0, 27.0, 24.5]\n",
    "\n",
    "print(len(y))\n",
    "print(len(width))\n",
    "\n",
    "#crab = pd.DataFrame(\n",
    "#    {'y': y,\n",
    "#     'width': width})\n",
    "\n",
    "    pd.DataFrame(list(zip(y, width)),\n",
    "                  columns=['y','width'])\n",
    "\n",
    "#list_of_lists=[y,width]\n",
    "#print(list_of_lists)\n",
    "#crab = pd.DataFrame(list_of_lists, columns=['y', 'width'])\n",
    "print(crab.head())\n",
    "\n",
    "#print(crab['width'].tolist())"
   ]
  },
  {
   "cell_type": "code",
   "execution_count": 43,
   "id": "b0137032",
   "metadata": {},
   "outputs": [
    {
     "name": "stdout",
     "output_type": "stream",
     "text": [
      "                 Generalized Linear Model Regression Results                  \n",
      "==============================================================================\n",
      "Dep. Variable:                      y   No. Observations:                  173\n",
      "Model:                            GLM   Df Residuals:                      171\n",
      "Model Family:                Gaussian   Df Model:                            1\n",
      "Link Function:               identity   Scale:                         0.19515\n",
      "Method:                          IRLS   Log-Likelihood:                -103.13\n",
      "Date:                Sun, 23 Apr 2023   Deviance:                       33.371\n",
      "Time:                        15:20:12   Pearson chi2:                     33.4\n",
      "No. Iterations:                     3   Pseudo R-squ. (CS):             0.1730\n",
      "Covariance Type:            nonrobust                                         \n",
      "==============================================================================\n",
      "                 coef    std err          z      P>|z|      [0.025      0.975]\n",
      "------------------------------------------------------------------------------\n",
      "Intercept     -1.7655      0.421     -4.190      0.000      -2.591      -0.940\n",
      "width          0.0915      0.016      5.731      0.000       0.060       0.123\n",
      "==============================================================================\n",
      "                 Generalized Linear Model Regression Results                  \n",
      "==============================================================================\n",
      "Dep. Variable:                      y   No. Observations:                  173\n",
      "Model:                            GLM   Df Residuals:                      171\n",
      "Model Family:                Binomial   Df Model:                            1\n",
      "Link Function:                  Logit   Scale:                          1.0000\n",
      "Method:                          IRLS   Log-Likelihood:                -97.226\n",
      "Date:                Sun, 23 Apr 2023   Deviance:                       194.45\n",
      "Time:                        15:20:12   Pearson chi2:                     165.\n",
      "No. Iterations:                     4   Pseudo R-squ. (CS):             0.1655\n",
      "Covariance Type:            nonrobust                                         \n",
      "==============================================================================\n",
      "                 coef    std err          z      P>|z|      [0.025      0.975]\n",
      "------------------------------------------------------------------------------\n",
      "Intercept    -12.3508      2.629     -4.698      0.000     -17.503      -7.199\n",
      "width          0.4972      0.102      4.887      0.000       0.298       0.697\n",
      "==============================================================================\n"
     ]
    }
   ],
   "source": [
    "# Define model formula\n",
    "formula = 'y ~ width'\n",
    "\n",
    "# Define probability distribution for the response variable for \n",
    "# the linear (LM) and logistic (GLM) model\n",
    "family_LM = sm.families.Gaussian()\n",
    "family_GLM = sm.families.Binomial()\n",
    "\n",
    "# Define and fit a linear regression model\n",
    "model_LM = glm(formula = formula, data = crab, family = family_LM).fit()\n",
    "print(model_LM.summary())\n",
    "\n",
    "\n",
    "# Define and fit a logistic regression model\n",
    "model_GLM = glm(formula = formula, data = crab, family = family_GLM).fit()\n",
    "print(model_GLM.summary())"
   ]
  },
  {
   "cell_type": "code",
   "execution_count": 44,
   "id": "432d6bc8",
   "metadata": {},
   "outputs": [],
   "source": [
    "# Exercise 7\n",
    "# Comparing predicted values\n",
    "# In the previous exercise, you have fitted both a linear and a GLM (logistic) regression model using crab data, predicting ywith width. In other words, you wanted to predict the probability that the female has a satellite crab nearby given her width.\n",
    "\n",
    "# In this exercise, you will further examine the estimated probabilities (the output) from the two models and try to deduce if the linear fit would be suitable for the problem at hand.\n",
    "\n",
    "# The usual practice is to test the model on new, unseen, data. Such dataset is called test sample.\n",
    "# The test sample has been created for you and loaded in the workspace. Note that you need test values for all variables present in the model, which in this example is width.\n",
    "\n",
    "# The crab dataset has been preloaded in the workspace.\n",
    "\n",
    "y=[0, 0, 1, 1, 1]\n",
    "width=[17.8, 24.6, 28.1, 32.0, 33.7]\n",
    "\n",
    "test=pd.DataFrame(list(zip(y, width)),\n",
    "              columns=['y','width'])"
   ]
  },
  {
   "cell_type": "code",
   "execution_count": 47,
   "id": "a416b9a4",
   "metadata": {},
   "outputs": [
    {
     "name": "stdout",
     "output_type": "stream",
     "text": [
      "Test\n",
      "   y  width\n",
      "0  0   17.8\n",
      "1  0   24.6\n",
      "2  1   28.1\n",
      "3  1   32.0\n",
      "4  1   33.7\n",
      "All Data\n",
      "   y  width   Pred_LM  Pred_GLM\n",
      "0  0   17.8 -0.136287  0.029309\n",
      "1  0   24.6  0.486122  0.470299\n",
      "2  1   28.1  0.806480  0.834983\n",
      "3  1   32.0  1.163450  0.972363\n",
      "4  1   33.7  1.319052  0.987941\n"
     ]
    }
   ],
   "source": [
    "# Using print() view the test set.\n",
    "# Using the test sample, compute estimated probabilities using .predict() on the fitted linear model model_LM and save as pred_lm. Also, compute estimated probabilities using .predict() on the fitted GLM (logistic) model saved as model_GLM and save as pred_glm.\n",
    "# Using pandas DataFrame() combine predictions from both models and save as predictions.\n",
    "# Concatenate the test and predictions and save as all_data. View all_data using print().\n",
    "\n",
    "# View test set\n",
    "print(\"Test\")\n",
    "print(test)\n",
    "\n",
    "# Compute estimated probabilities for linear model: pred_lm\n",
    "pred_lm = model_LM.predict(test)\n",
    "\n",
    "# Compute estimated probabilities for GLM model: pred_glm\n",
    "pred_glm = model_GLM.predict(test)\n",
    "\n",
    "# Create dataframe of predictions for linear and GLM model: predictions\n",
    "predictions = pd.DataFrame({'Pred_LM': pred_lm, 'Pred_GLM': pred_glm})\n",
    "\n",
    "# Concatenate test sample and predictions and view the results\n",
    "all_data = pd.concat([test, predictions], axis = 1)\n",
    "print(\"All Data\")\n",
    "print(all_data)"
   ]
  },
  {
   "cell_type": "code",
   "execution_count": null,
   "id": "88ac6938",
   "metadata": {},
   "outputs": [],
   "source": []
  }
 ],
 "metadata": {
  "kernelspec": {
   "display_name": "Python 3 (ipykernel)",
   "language": "python",
   "name": "python3"
  },
  "language_info": {
   "codemirror_mode": {
    "name": "ipython",
    "version": 3
   },
   "file_extension": ".py",
   "mimetype": "text/x-python",
   "name": "python",
   "nbconvert_exporter": "python",
   "pygments_lexer": "ipython3",
   "version": "3.10.9"
  }
 },
 "nbformat": 4,
 "nbformat_minor": 5
}
