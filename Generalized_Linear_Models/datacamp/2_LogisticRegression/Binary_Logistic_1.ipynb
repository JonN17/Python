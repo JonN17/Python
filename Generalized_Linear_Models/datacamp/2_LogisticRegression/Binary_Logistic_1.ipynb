{
 "cells": [
  {
   "cell_type": "code",
   "execution_count": 5,
   "id": "369ce46a",
   "metadata": {},
   "outputs": [
    {
     "name": "stdout",
     "output_type": "stream",
     "text": [
      "Odds are:  0.333\n"
     ]
    }
   ],
   "source": [
    "# Binary Data and Logistic Regression\n",
    "# https://campus.datacamp.com/courses/generalized-linear-models-in-python/modeling-binary-data?ex=1\n",
    "# Binary Class data -> 2 class data\n",
    "# Banking - Default / No Default\n",
    "# Test - Pass/Fail\n",
    "# Fraud - Fraudulent / Legit\n",
    "# Choices - Product A or Product B\n",
    "\n",
    "# Grouped vs Not grouped\n",
    "# Pass = 1\n",
    "# Fail = 0\n",
    "\n",
    "# ungrouped data - single event - flip of coin, Bernoulli(p), Binomial(n=1,p), used in studies\n",
    "# grouped data - multiple events, Bernoulli distribution, Binomial(n,p)\n",
    "# Question: Binomial(n=1,p) vs Binomial(n,p)\n",
    "# Answer: \n",
    "\n",
    "# ODD:  Occuring/not occuring\n",
    "# odds ration:   odds1 / odds2\n",
    "\n",
    "# odds != probability\n",
    "# odds = probability / (1-probability)\n",
    "# probability = odds / (1+odds)\n",
    "\n",
    "# Probability model\n",
    "# ??????????????????????????????????\n",
    "\n",
    "# Logistic funciton\n",
    "# ???????????????????????????????????\n",
    "\n",
    "# Apply logistic function\n",
    "# ????????????????????????????????????\n",
    "\n",
    "# Rewatch this video\n",
    "# \n",
    "\n",
    "\n",
    "# An athlete competes in 60 races and wins 15 times.\n",
    "# Compute and print the odds of winning.\n",
    "\n",
    "# Compute the odds\n",
    "odds = 15/(60-15)\n",
    "\n",
    "# Print the result\n",
    "print('Odds are: ', round(odds,3))\n",
    "\n",
    "\n"
   ]
  },
  {
   "cell_type": "code",
   "execution_count": 7,
   "id": "d15f7fad",
   "metadata": {},
   "outputs": [
    {
     "name": "stdout",
     "output_type": "stream",
     "text": [
      "Probability is:  0.25\n"
     ]
    }
   ],
   "source": [
    "# An athlete competes in 60 races and wins 15 times.\n",
    "\n",
    "# Compute and print the probability of winning.\n",
    "\n",
    "# Compute the probability\n",
    "probability = 15/60\n",
    "# The numerator in the probability computation should be the number of wins.\n",
    "\n",
    "\n",
    "# Print the result\n",
    "print('Probability is: ', round(probability,3))"
   ]
  },
  {
   "cell_type": "code",
   "execution_count": 9,
   "id": "2d7bc818",
   "metadata": {},
   "outputs": [
    {
     "name": "stdout",
     "output_type": "stream",
     "text": [
      "0.333\n"
     ]
    }
   ],
   "source": [
    "# Probability calculation\n",
    "probability = 15/60\n",
    "\n",
    "# Compute odds using probability calculation\n",
    "odds_from_probs = probability/(1 - probability)\n",
    "\n",
    "# Print the results\n",
    "print(round(odds_from_probs, 3))"
   ]
  },
  {
   "cell_type": "code",
   "execution_count": null,
   "id": "ff6973a3",
   "metadata": {},
   "outputs": [],
   "source": []
  }
 ],
 "metadata": {
  "kernelspec": {
   "display_name": "Python 3 (ipykernel)",
   "language": "python",
   "name": "python3"
  },
  "language_info": {
   "codemirror_mode": {
    "name": "ipython",
    "version": 3
   },
   "file_extension": ".py",
   "mimetype": "text/x-python",
   "name": "python",
   "nbconvert_exporter": "python",
   "pygments_lexer": "ipython3",
   "version": "3.10.9"
  }
 },
 "nbformat": 4,
 "nbformat_minor": 5
}
